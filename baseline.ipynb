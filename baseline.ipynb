{
 "cells": [
  {
   "cell_type": "code",
   "execution_count": 3,
   "id": "placed-march",
   "metadata": {},
   "outputs": [
    {
     "name": "stderr",
     "output_type": "stream",
     "text": [
      "C:\\Users\\Dergel\\Anaconda3\\lib\\site-packages\\numpy\\_distributor_init.py:32: UserWarning: loaded more than 1 DLL from .libs:\n",
      "C:\\Users\\Dergel\\Anaconda3\\lib\\site-packages\\numpy\\.libs\\libopenblas.PYQHXLVVQ7VESDPUVUADXEVJOBGHJPAY.gfortran-win_amd64.dll\n",
      "C:\\Users\\Dergel\\Anaconda3\\lib\\site-packages\\numpy\\.libs\\libopenblas.WCDJNK7YVMPZQ2ME2ZZHJJRJ3JIKNDB7.gfortran-win_amd64.dll\n",
      "  stacklevel=1)\n"
     ]
    }
   ],
   "source": [
    "from os import walk\n",
    "import pandas as pd\n",
    "import numpy as np\n",
    "import tensorflow as tf"
   ]
  },
  {
   "cell_type": "code",
   "execution_count": 4,
   "id": "intended-happening",
   "metadata": {},
   "outputs": [],
   "source": [
    "data = []\n",
    "for (dirpath, dirnames, filenames) in walk('./data/DREAM4_InSilico_Size10/'):\n",
    "    for (dirpath1, dirnames1, filenames1) in walk(dirpath):\n",
    "        for (dirpath2, dirnames2, filenames2) in walk(dirpath1):\n",
    "            for f in filenames2:\n",
    "                if '_timeseries' in f:\n",
    "                    data.append(pd.read_table(dirpath2 + '/' + f))"
   ]
  },
  {
   "cell_type": "code",
   "execution_count": 83,
   "id": "formed-upper",
   "metadata": {},
   "outputs": [],
   "source": [
    "SEQUENCE_LENGTH = 5\n",
    "\n",
    "def DataGenerator():\n",
    "    for d in data:\n",
    "        cur_seq = []\n",
    "        for _,row in d.iterrows():\n",
    "            if row.Time == 0:\n",
    "                if len(cur_seq) > 0:\n",
    "                    cur_seq = np.array(cur_seq)\n",
    "                    for i in range(SEQUENCE_LENGTH,cur_seq.shape[0] - SEQUENCE_LENGTH):\n",
    "                        yield cur_seq[i-SEQUENCE_LENGTH:i], cur_seq[i]\n",
    "                cur_seq = []\n",
    "            cur_seq.append(row.drop('Time').values)"
   ]
  },
  {
   "cell_type": "code",
   "execution_count": 121,
   "id": "sonic-depression",
   "metadata": {
    "scrolled": true
   },
   "outputs": [
    {
     "data": {
      "text/plain": [
       "<ShuffleDataset shapes: ((None, 5, 10), (None, 10)), types: (tf.float32, tf.float32)>"
      ]
     },
     "execution_count": 121,
     "metadata": {},
     "output_type": "execute_result"
    }
   ],
   "source": [
    "BATCH = 10\n",
    "\n",
    "dataset = tf.data.Dataset.from_generator(DataGenerator, \n",
    "                               output_types=(tf.float32, tf.float32),\n",
    "                               output_shapes=([width, 10], [10])\n",
    "                               ).shuffle(500).batch(BATCH)\n",
    "\n",
    "dataset.shuffle(BATCH)"
   ]
  },
  {
   "cell_type": "code",
   "execution_count": 122,
   "id": "sustainable-conviction",
   "metadata": {},
   "outputs": [],
   "source": [
    "train = dataset.take(40)\n",
    "test = dataset.skip(40)"
   ]
  },
  {
   "cell_type": "code",
   "execution_count": 125,
   "id": "athletic-supply",
   "metadata": {},
   "outputs": [
    {
     "name": "stdout",
     "output_type": "stream",
     "text": [
      "Model: \"model_9\"\n",
      "_________________________________________________________________\n",
      "Layer (type)                 Output Shape              Param #   \n",
      "=================================================================\n",
      "input_11 (InputLayer)        [(10, 5, 10)]             0         \n",
      "_________________________________________________________________\n",
      "lstm_9 (LSTM)                (10, 20)                  2480      \n",
      "_________________________________________________________________\n",
      "dense_11 (Dense)             (10, 10)                  210       \n",
      "_________________________________________________________________\n",
      "dense_12 (Dense)             (10, 10)                  110       \n",
      "=================================================================\n",
      "Total params: 2,800\n",
      "Trainable params: 2,800\n",
      "Non-trainable params: 0\n",
      "_________________________________________________________________\n"
     ]
    }
   ],
   "source": [
    "inp = tf.keras.layers.Input(shape=(SEQUENCE_LENGTH, 10), batch_size=BATCH)\n",
    "\n",
    "hidden = tf.keras.layers.LSTM(20, return_sequences=False)(inp)\n",
    "\n",
    "hidden = tf.keras.layers.Dense(10, activation='tanh')(hidden)\n",
    "out = tf.keras.layers.Dense(10)(hidden)\n",
    "\n",
    "model = tf.keras.models.Model(inputs=inp, outputs=out)\n",
    "model.summary()\n",
    "\n",
    "model.compile(optimizer='rmsprop', loss='mse')"
   ]
  },
  {
   "cell_type": "code",
   "execution_count": 127,
   "id": "japanese-divorce",
   "metadata": {},
   "outputs": [
    {
     "name": "stdout",
     "output_type": "stream",
     "text": [
      "40/40 [==============================] - 1s 14ms/step - loss: 0.0173\n",
      "26/26 [==============================] - 1s 2ms/step - loss: 0.0164\n",
      "\n",
      "40/40 [==============================] - 2s 12ms/step - loss: 0.0170\n",
      "26/26 [==============================] - 1s 2ms/step - loss: 0.0162\n",
      "\n",
      "40/40 [==============================] - 1s 12ms/step - loss: 0.0160\n",
      "26/26 [==============================] - 1s 2ms/step - loss: 0.0158\n",
      "\n",
      "40/40 [==============================] - 1s 12ms/step - loss: 0.0158\n",
      "26/26 [==============================] - 1s 2ms/step - loss: 0.0154\n",
      "\n",
      "40/40 [==============================] - 1s 10ms/step - loss: 0.0152\n",
      "26/26 [==============================] - 1s 2ms/step - loss: 0.0146\n",
      "\n",
      "40/40 [==============================] - 1s 8ms/step - loss: 0.0143\n",
      "26/26 [==============================] - 1s 2ms/step - loss: 0.0141\n",
      "\n",
      "40/40 [==============================] - 1s 12ms/step - loss: 0.0145\n",
      "26/26 [==============================] - 1s 2ms/step - loss: 0.0138\n",
      "\n",
      "40/40 [==============================] - 1s 12ms/step - loss: 0.0135\n",
      "26/26 [==============================] - 1s 2ms/step - loss: 0.0130\n",
      "\n",
      "40/40 [==============================] - 1s 14ms/step - loss: 0.0133\n",
      "26/26 [==============================] - 1s 2ms/step - loss: 0.0133\n",
      "\n",
      "40/40 [==============================] - 1s 12ms/step - loss: 0.0134\n",
      "26/26 [==============================] - 1s 2ms/step - loss: 0.0127\n",
      "\n"
     ]
    }
   ],
   "source": [
    "for i in range(10):\n",
    "    history = model.fit(train, epochs=1)\n",
    "    model.evaluate(test)\n",
    "    print()"
   ]
  },
  {
   "cell_type": "code",
   "execution_count": null,
   "id": "upper-interaction",
   "metadata": {},
   "outputs": [],
   "source": []
  }
 ],
 "metadata": {
  "kernelspec": {
   "display_name": "Python 3",
   "language": "python",
   "name": "python3"
  },
  "language_info": {
   "codemirror_mode": {
    "name": "ipython",
    "version": 3
   },
   "file_extension": ".py",
   "mimetype": "text/x-python",
   "name": "python",
   "nbconvert_exporter": "python",
   "pygments_lexer": "ipython3",
   "version": "3.7.3"
  }
 },
 "nbformat": 4,
 "nbformat_minor": 5
}
